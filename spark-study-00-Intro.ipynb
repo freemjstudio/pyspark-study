{
 "cells": [
  {
   "cell_type": "code",
   "execution_count": 2,
   "id": "fe8cc58b",
   "metadata": {},
   "outputs": [
    {
     "name": "stdout",
     "output_type": "stream",
     "text": [
      "Requirement already satisfied: pyspark in c:\\users\\mzc01-minjiwoo\\anaconda3\\lib\\site-packages (3.4.1)\n",
      "Requirement already satisfied: py4j==0.10.9.7 in c:\\users\\mzc01-minjiwoo\\anaconda3\\lib\\site-packages (from pyspark) (0.10.9.7)\n"
     ]
    }
   ],
   "source": [
    "!pip install pyspark "
   ]
  },
  {
   "cell_type": "markdown",
   "id": "4b745e51",
   "metadata": {},
   "source": [
    "- appName() : set application name \n",
    "- getOrCreate() : returns a Spark Session \n",
    "- master() : cluster 위에서 실행시키는 경우 master 이름을 사용할 수 있다. \n",
    "- local[x] 라는 이름은 Standalone mode 에서 사용가능하다 \n",
    "- x 값은 숫자값이 되어야 하고 0보다 커야 한다 \n",
    "- 이는 RDD, DataFrame, Dataset 을 생성할 때 파티션의 개수를 뜻한다 "
   ]
  },
  {
   "cell_type": "code",
   "execution_count": 3,
   "id": "411548db",
   "metadata": {},
   "outputs": [],
   "source": [
    "import pyspark \n",
    "from pyspark.sql import SparkSession \n",
    "# SparkSession : entry point to programming Spark with the Dataset and DataFrame API \n",
    "\n",
    "spark = SparkSession.builder.appName('SparkExample.com').getOrCreate() \n"
   ]
  },
  {
   "cell_type": "markdown",
   "id": "53888627",
   "metadata": {},
   "source": [
    "### Spark RDD의 동작 2가지 \n",
    "1. Transformation : map(), filter()\n",
    "2. Action : collect(), count()"
   ]
  },
  {
   "cell_type": "code",
   "execution_count": 4,
   "id": "ad5d23d8",
   "metadata": {},
   "outputs": [],
   "source": [
    "from pyspark.sql.functions import * \n",
    "from pyspark.sql.types import * \n",
    "\n",
    "# Transformation 입니다. \n",
    "df = spark.read.load(\"C://Users\\MZC01-MINJIWOO\\Downloads\\customer_dataset\\marketing_campaign.csv\",\n",
    "                    format=\"csv\",\n",
    "                    sep=\"\\t\",\n",
    "                    inferSchema=\"true\",\n",
    "                    header=\"true\")"
   ]
  },
  {
   "cell_type": "code",
   "execution_count": 5,
   "id": "e656d04a",
   "metadata": {},
   "outputs": [
    {
     "name": "stdout",
     "output_type": "stream",
     "text": [
      "root\n",
      " |-- ID: integer (nullable = true)\n",
      " |-- Year_Birth: integer (nullable = true)\n",
      " |-- Education: string (nullable = true)\n",
      " |-- Marital_Status: string (nullable = true)\n",
      " |-- Income: integer (nullable = true)\n",
      " |-- Kidhome: integer (nullable = true)\n",
      " |-- Teenhome: integer (nullable = true)\n",
      " |-- Dt_Customer: string (nullable = true)\n",
      " |-- Recency: integer (nullable = true)\n",
      " |-- MntWines: integer (nullable = true)\n",
      " |-- MntFruits: integer (nullable = true)\n",
      " |-- MntMeatProducts: integer (nullable = true)\n",
      " |-- MntFishProducts: integer (nullable = true)\n",
      " |-- MntSweetProducts: integer (nullable = true)\n",
      " |-- MntGoldProds: integer (nullable = true)\n",
      " |-- NumDealsPurchases: integer (nullable = true)\n",
      " |-- NumWebPurchases: integer (nullable = true)\n",
      " |-- NumCatalogPurchases: integer (nullable = true)\n",
      " |-- NumStorePurchases: integer (nullable = true)\n",
      " |-- NumWebVisitsMonth: integer (nullable = true)\n",
      " |-- AcceptedCmp3: integer (nullable = true)\n",
      " |-- AcceptedCmp4: integer (nullable = true)\n",
      " |-- AcceptedCmp5: integer (nullable = true)\n",
      " |-- AcceptedCmp1: integer (nullable = true)\n",
      " |-- AcceptedCmp2: integer (nullable = true)\n",
      " |-- Complain: integer (nullable = true)\n",
      " |-- Z_CostContact: integer (nullable = true)\n",
      " |-- Z_Revenue: integer (nullable = true)\n",
      " |-- Response: integer (nullable = true)\n",
      "\n"
     ]
    }
   ],
   "source": [
    "df.printSchema()"
   ]
  },
  {
   "cell_type": "code",
   "execution_count": 6,
   "id": "91e63e9e",
   "metadata": {},
   "outputs": [
    {
     "data": {
      "text/plain": [
       "2240"
      ]
     },
     "execution_count": 6,
     "metadata": {},
     "output_type": "execute_result"
    }
   ],
   "source": [
    "df.count()"
   ]
  },
  {
   "cell_type": "code",
   "execution_count": 7,
   "id": "90549ded",
   "metadata": {},
   "outputs": [
    {
     "data": {
      "text/html": [
       "<div>\n",
       "<style scoped>\n",
       "    .dataframe tbody tr th:only-of-type {\n",
       "        vertical-align: middle;\n",
       "    }\n",
       "\n",
       "    .dataframe tbody tr th {\n",
       "        vertical-align: top;\n",
       "    }\n",
       "\n",
       "    .dataframe thead th {\n",
       "        text-align: right;\n",
       "    }\n",
       "</style>\n",
       "<table border=\"1\" class=\"dataframe\">\n",
       "  <thead>\n",
       "    <tr style=\"text-align: right;\">\n",
       "      <th></th>\n",
       "      <th>ID</th>\n",
       "      <th>Year_Birth</th>\n",
       "      <th>Education</th>\n",
       "      <th>Marital_Status</th>\n",
       "      <th>Income</th>\n",
       "      <th>Kidhome</th>\n",
       "      <th>Teenhome</th>\n",
       "      <th>Dt_Customer</th>\n",
       "      <th>Recency</th>\n",
       "      <th>MntWines</th>\n",
       "      <th>...</th>\n",
       "      <th>NumWebVisitsMonth</th>\n",
       "      <th>AcceptedCmp3</th>\n",
       "      <th>AcceptedCmp4</th>\n",
       "      <th>AcceptedCmp5</th>\n",
       "      <th>AcceptedCmp1</th>\n",
       "      <th>AcceptedCmp2</th>\n",
       "      <th>Complain</th>\n",
       "      <th>Z_CostContact</th>\n",
       "      <th>Z_Revenue</th>\n",
       "      <th>Response</th>\n",
       "    </tr>\n",
       "  </thead>\n",
       "  <tbody>\n",
       "    <tr>\n",
       "      <th>0</th>\n",
       "      <td>5524</td>\n",
       "      <td>1957</td>\n",
       "      <td>Graduation</td>\n",
       "      <td>Single</td>\n",
       "      <td>58138.0</td>\n",
       "      <td>0</td>\n",
       "      <td>0</td>\n",
       "      <td>04-09-2012</td>\n",
       "      <td>58</td>\n",
       "      <td>635</td>\n",
       "      <td>...</td>\n",
       "      <td>7</td>\n",
       "      <td>0</td>\n",
       "      <td>0</td>\n",
       "      <td>0</td>\n",
       "      <td>0</td>\n",
       "      <td>0</td>\n",
       "      <td>0</td>\n",
       "      <td>3</td>\n",
       "      <td>11</td>\n",
       "      <td>1</td>\n",
       "    </tr>\n",
       "    <tr>\n",
       "      <th>1</th>\n",
       "      <td>2174</td>\n",
       "      <td>1954</td>\n",
       "      <td>Graduation</td>\n",
       "      <td>Single</td>\n",
       "      <td>46344.0</td>\n",
       "      <td>1</td>\n",
       "      <td>1</td>\n",
       "      <td>08-03-2014</td>\n",
       "      <td>38</td>\n",
       "      <td>11</td>\n",
       "      <td>...</td>\n",
       "      <td>5</td>\n",
       "      <td>0</td>\n",
       "      <td>0</td>\n",
       "      <td>0</td>\n",
       "      <td>0</td>\n",
       "      <td>0</td>\n",
       "      <td>0</td>\n",
       "      <td>3</td>\n",
       "      <td>11</td>\n",
       "      <td>0</td>\n",
       "    </tr>\n",
       "    <tr>\n",
       "      <th>2</th>\n",
       "      <td>4141</td>\n",
       "      <td>1965</td>\n",
       "      <td>Graduation</td>\n",
       "      <td>Together</td>\n",
       "      <td>71613.0</td>\n",
       "      <td>0</td>\n",
       "      <td>0</td>\n",
       "      <td>21-08-2013</td>\n",
       "      <td>26</td>\n",
       "      <td>426</td>\n",
       "      <td>...</td>\n",
       "      <td>4</td>\n",
       "      <td>0</td>\n",
       "      <td>0</td>\n",
       "      <td>0</td>\n",
       "      <td>0</td>\n",
       "      <td>0</td>\n",
       "      <td>0</td>\n",
       "      <td>3</td>\n",
       "      <td>11</td>\n",
       "      <td>0</td>\n",
       "    </tr>\n",
       "    <tr>\n",
       "      <th>3</th>\n",
       "      <td>6182</td>\n",
       "      <td>1984</td>\n",
       "      <td>Graduation</td>\n",
       "      <td>Together</td>\n",
       "      <td>26646.0</td>\n",
       "      <td>1</td>\n",
       "      <td>0</td>\n",
       "      <td>10-02-2014</td>\n",
       "      <td>26</td>\n",
       "      <td>11</td>\n",
       "      <td>...</td>\n",
       "      <td>6</td>\n",
       "      <td>0</td>\n",
       "      <td>0</td>\n",
       "      <td>0</td>\n",
       "      <td>0</td>\n",
       "      <td>0</td>\n",
       "      <td>0</td>\n",
       "      <td>3</td>\n",
       "      <td>11</td>\n",
       "      <td>0</td>\n",
       "    </tr>\n",
       "    <tr>\n",
       "      <th>4</th>\n",
       "      <td>5324</td>\n",
       "      <td>1981</td>\n",
       "      <td>PhD</td>\n",
       "      <td>Married</td>\n",
       "      <td>58293.0</td>\n",
       "      <td>1</td>\n",
       "      <td>0</td>\n",
       "      <td>19-01-2014</td>\n",
       "      <td>94</td>\n",
       "      <td>173</td>\n",
       "      <td>...</td>\n",
       "      <td>5</td>\n",
       "      <td>0</td>\n",
       "      <td>0</td>\n",
       "      <td>0</td>\n",
       "      <td>0</td>\n",
       "      <td>0</td>\n",
       "      <td>0</td>\n",
       "      <td>3</td>\n",
       "      <td>11</td>\n",
       "      <td>0</td>\n",
       "    </tr>\n",
       "    <tr>\n",
       "      <th>...</th>\n",
       "      <td>...</td>\n",
       "      <td>...</td>\n",
       "      <td>...</td>\n",
       "      <td>...</td>\n",
       "      <td>...</td>\n",
       "      <td>...</td>\n",
       "      <td>...</td>\n",
       "      <td>...</td>\n",
       "      <td>...</td>\n",
       "      <td>...</td>\n",
       "      <td>...</td>\n",
       "      <td>...</td>\n",
       "      <td>...</td>\n",
       "      <td>...</td>\n",
       "      <td>...</td>\n",
       "      <td>...</td>\n",
       "      <td>...</td>\n",
       "      <td>...</td>\n",
       "      <td>...</td>\n",
       "      <td>...</td>\n",
       "      <td>...</td>\n",
       "    </tr>\n",
       "    <tr>\n",
       "      <th>2235</th>\n",
       "      <td>10870</td>\n",
       "      <td>1967</td>\n",
       "      <td>Graduation</td>\n",
       "      <td>Married</td>\n",
       "      <td>61223.0</td>\n",
       "      <td>0</td>\n",
       "      <td>1</td>\n",
       "      <td>13-06-2013</td>\n",
       "      <td>46</td>\n",
       "      <td>709</td>\n",
       "      <td>...</td>\n",
       "      <td>5</td>\n",
       "      <td>0</td>\n",
       "      <td>0</td>\n",
       "      <td>0</td>\n",
       "      <td>0</td>\n",
       "      <td>0</td>\n",
       "      <td>0</td>\n",
       "      <td>3</td>\n",
       "      <td>11</td>\n",
       "      <td>0</td>\n",
       "    </tr>\n",
       "    <tr>\n",
       "      <th>2236</th>\n",
       "      <td>4001</td>\n",
       "      <td>1946</td>\n",
       "      <td>PhD</td>\n",
       "      <td>Together</td>\n",
       "      <td>64014.0</td>\n",
       "      <td>2</td>\n",
       "      <td>1</td>\n",
       "      <td>10-06-2014</td>\n",
       "      <td>56</td>\n",
       "      <td>406</td>\n",
       "      <td>...</td>\n",
       "      <td>7</td>\n",
       "      <td>0</td>\n",
       "      <td>0</td>\n",
       "      <td>0</td>\n",
       "      <td>1</td>\n",
       "      <td>0</td>\n",
       "      <td>0</td>\n",
       "      <td>3</td>\n",
       "      <td>11</td>\n",
       "      <td>0</td>\n",
       "    </tr>\n",
       "    <tr>\n",
       "      <th>2237</th>\n",
       "      <td>7270</td>\n",
       "      <td>1981</td>\n",
       "      <td>Graduation</td>\n",
       "      <td>Divorced</td>\n",
       "      <td>56981.0</td>\n",
       "      <td>0</td>\n",
       "      <td>0</td>\n",
       "      <td>25-01-2014</td>\n",
       "      <td>91</td>\n",
       "      <td>908</td>\n",
       "      <td>...</td>\n",
       "      <td>6</td>\n",
       "      <td>0</td>\n",
       "      <td>1</td>\n",
       "      <td>0</td>\n",
       "      <td>0</td>\n",
       "      <td>0</td>\n",
       "      <td>0</td>\n",
       "      <td>3</td>\n",
       "      <td>11</td>\n",
       "      <td>0</td>\n",
       "    </tr>\n",
       "    <tr>\n",
       "      <th>2238</th>\n",
       "      <td>8235</td>\n",
       "      <td>1956</td>\n",
       "      <td>Master</td>\n",
       "      <td>Together</td>\n",
       "      <td>69245.0</td>\n",
       "      <td>0</td>\n",
       "      <td>1</td>\n",
       "      <td>24-01-2014</td>\n",
       "      <td>8</td>\n",
       "      <td>428</td>\n",
       "      <td>...</td>\n",
       "      <td>3</td>\n",
       "      <td>0</td>\n",
       "      <td>0</td>\n",
       "      <td>0</td>\n",
       "      <td>0</td>\n",
       "      <td>0</td>\n",
       "      <td>0</td>\n",
       "      <td>3</td>\n",
       "      <td>11</td>\n",
       "      <td>0</td>\n",
       "    </tr>\n",
       "    <tr>\n",
       "      <th>2239</th>\n",
       "      <td>9405</td>\n",
       "      <td>1954</td>\n",
       "      <td>PhD</td>\n",
       "      <td>Married</td>\n",
       "      <td>52869.0</td>\n",
       "      <td>1</td>\n",
       "      <td>1</td>\n",
       "      <td>15-10-2012</td>\n",
       "      <td>40</td>\n",
       "      <td>84</td>\n",
       "      <td>...</td>\n",
       "      <td>7</td>\n",
       "      <td>0</td>\n",
       "      <td>0</td>\n",
       "      <td>0</td>\n",
       "      <td>0</td>\n",
       "      <td>0</td>\n",
       "      <td>0</td>\n",
       "      <td>3</td>\n",
       "      <td>11</td>\n",
       "      <td>1</td>\n",
       "    </tr>\n",
       "  </tbody>\n",
       "</table>\n",
       "<p>2240 rows × 29 columns</p>\n",
       "</div>"
      ],
      "text/plain": [
       "         ID  Year_Birth   Education Marital_Status   Income  Kidhome  \\\n",
       "0      5524        1957  Graduation         Single  58138.0        0   \n",
       "1      2174        1954  Graduation         Single  46344.0        1   \n",
       "2      4141        1965  Graduation       Together  71613.0        0   \n",
       "3      6182        1984  Graduation       Together  26646.0        1   \n",
       "4      5324        1981         PhD        Married  58293.0        1   \n",
       "...     ...         ...         ...            ...      ...      ...   \n",
       "2235  10870        1967  Graduation        Married  61223.0        0   \n",
       "2236   4001        1946         PhD       Together  64014.0        2   \n",
       "2237   7270        1981  Graduation       Divorced  56981.0        0   \n",
       "2238   8235        1956      Master       Together  69245.0        0   \n",
       "2239   9405        1954         PhD        Married  52869.0        1   \n",
       "\n",
       "      Teenhome Dt_Customer  Recency  MntWines  ...  NumWebVisitsMonth  \\\n",
       "0            0  04-09-2012       58       635  ...                  7   \n",
       "1            1  08-03-2014       38        11  ...                  5   \n",
       "2            0  21-08-2013       26       426  ...                  4   \n",
       "3            0  10-02-2014       26        11  ...                  6   \n",
       "4            0  19-01-2014       94       173  ...                  5   \n",
       "...        ...         ...      ...       ...  ...                ...   \n",
       "2235         1  13-06-2013       46       709  ...                  5   \n",
       "2236         1  10-06-2014       56       406  ...                  7   \n",
       "2237         0  25-01-2014       91       908  ...                  6   \n",
       "2238         1  24-01-2014        8       428  ...                  3   \n",
       "2239         1  15-10-2012       40        84  ...                  7   \n",
       "\n",
       "      AcceptedCmp3  AcceptedCmp4  AcceptedCmp5  AcceptedCmp1  AcceptedCmp2  \\\n",
       "0                0             0             0             0             0   \n",
       "1                0             0             0             0             0   \n",
       "2                0             0             0             0             0   \n",
       "3                0             0             0             0             0   \n",
       "4                0             0             0             0             0   \n",
       "...            ...           ...           ...           ...           ...   \n",
       "2235             0             0             0             0             0   \n",
       "2236             0             0             0             1             0   \n",
       "2237             0             1             0             0             0   \n",
       "2238             0             0             0             0             0   \n",
       "2239             0             0             0             0             0   \n",
       "\n",
       "      Complain  Z_CostContact  Z_Revenue  Response  \n",
       "0            0              3         11         1  \n",
       "1            0              3         11         0  \n",
       "2            0              3         11         0  \n",
       "3            0              3         11         0  \n",
       "4            0              3         11         0  \n",
       "...        ...            ...        ...       ...  \n",
       "2235         0              3         11         0  \n",
       "2236         0              3         11         0  \n",
       "2237         0              3         11         0  \n",
       "2238         0              3         11         0  \n",
       "2239         0              3         11         1  \n",
       "\n",
       "[2240 rows x 29 columns]"
      ]
     },
     "execution_count": 7,
     "metadata": {},
     "output_type": "execute_result"
    }
   ],
   "source": [
    "df.toPandas()"
   ]
  },
  {
   "cell_type": "code",
   "execution_count": 8,
   "id": "a428df79",
   "metadata": {},
   "outputs": [
    {
     "data": {
      "text/plain": [
       "DataFrame[id: int, year_birth: int, education: string, count_kid: int, count_teen: int, date_customer: string, days_last_login: int]"
      ]
     },
     "execution_count": 8,
     "metadata": {},
     "output_type": "execute_result"
    }
   ],
   "source": [
    "# Transformation - 아직 실행되지 않는다. \n",
    "# 사용자가 데이터를 나중에 가공하겠다는 요청을 해놓는 것을 Transformation 이라고 함.\n",
    "dfSelected = df.select(\n",
    "    col(\"ID\").alias(\"id\"),\n",
    "    col(\"Year_Birth\").alias(\"year_birth\"),\n",
    "    col(\"Education\").alias(\"education\"),\n",
    "    col(\"Kidhome\").alias(\"count_kid\"),\n",
    "    col(\"Teenhome\").alias(\"count_teen\"),\n",
    "    col(\"Dt_Customer\").alias(\"date_customer\"),\n",
    "    col(\"Recency\").alias(\"days_last_login\")\n",
    ")\n",
    "dfSelected"
   ]
  },
  {
   "cell_type": "code",
   "execution_count": 9,
   "id": "ec817c9a",
   "metadata": {},
   "outputs": [
    {
     "name": "stdout",
     "output_type": "stream",
     "text": [
      "== Physical Plan ==\n",
      "* Project (2)\n",
      "+- Scan csv  (1)\n",
      "\n",
      "\n",
      "(1) Scan csv \n",
      "Output [7]: [ID#17, Year_Birth#18, Education#19, Kidhome#22, Teenhome#23, Dt_Customer#24, Recency#25]\n",
      "Batched: false\n",
      "Location: InMemoryFileIndex [file:/C:/Users/MZC01-MINJIWOO/Downloads/customer_dataset/marketing_campaign.csv]\n",
      "ReadSchema: struct<ID:int,Year_Birth:int,Education:string,Kidhome:int,Teenhome:int,Dt_Customer:string,Recency:int>\n",
      "\n",
      "(2) Project [codegen id : 1]\n",
      "Output [7]: [ID#17 AS id#138, Year_Birth#18 AS year_birth#139, Education#19 AS education#140, Kidhome#22 AS count_kid#141, Teenhome#23 AS count_teen#142, Dt_Customer#24 AS date_customer#143, Recency#25 AS days_last_login#144]\n",
      "Input [7]: [ID#17, Year_Birth#18, Education#19, Kidhome#22, Teenhome#23, Dt_Customer#24, Recency#25]\n",
      "\n",
      "\n"
     ]
    }
   ],
   "source": [
    "dfSelected.explain(\"formatted\")"
   ]
  },
  {
   "cell_type": "code",
   "execution_count": 10,
   "id": "3ed0e993",
   "metadata": {},
   "outputs": [
    {
     "data": {
      "text/plain": [
       "DataFrame[ID: int, Year_Birth: int, Education: string, Marital_Status: string, Income: int, Kidhome: int, Teenhome: int, Dt_Customer: string, Recency: int, MntWines: int, MntFruits: int, MntMeatProducts: int, MntFishProducts: int, MntSweetProducts: int, MntGoldProds: int, NumDealsPurchases: int, NumWebPurchases: int, NumCatalogPurchases: int, NumStorePurchases: int, NumWebVisitsMonth: int, AcceptedCmp3: int, AcceptedCmp4: int, AcceptedCmp5: int, AcceptedCmp1: int, AcceptedCmp2: int, Complain: int, Z_CostContact: int, Z_Revenue: int, Response: int, date_joined: date]"
      ]
     },
     "execution_count": 10,
     "metadata": {},
     "output_type": "execute_result"
    }
   ],
   "source": [
    "# Transformation \n",
    "dfConverted = df.withColumn(\"date_joined\",\n",
    "                           add_months(to_date(col(\"dt_customer\"), \n",
    "                                              \"d-M-yyyy\"), 1))\n",
    "dfConverted"
   ]
  },
  {
   "cell_type": "code",
   "execution_count": 11,
   "id": "6fc8fb69",
   "metadata": {},
   "outputs": [
    {
     "name": "stdout",
     "output_type": "stream",
     "text": [
      "== Physical Plan ==\n",
      "* Project (2)\n",
      "+- Scan csv  (1)\n",
      "\n",
      "\n",
      "(1) Scan csv \n",
      "Output [29]: [ID#17, Year_Birth#18, Education#19, Marital_Status#20, Income#21, Kidhome#22, Teenhome#23, Dt_Customer#24, Recency#25, MntWines#26, MntFruits#27, MntMeatProducts#28, MntFishProducts#29, MntSweetProducts#30, MntGoldProds#31, NumDealsPurchases#32, NumWebPurchases#33, NumCatalogPurchases#34, NumStorePurchases#35, NumWebVisitsMonth#36, AcceptedCmp3#37, AcceptedCmp4#38, AcceptedCmp5#39, AcceptedCmp1#40, AcceptedCmp2#41, Complain#42, Z_CostContact#43, Z_Revenue#44, Response#45]\n",
      "Batched: false\n",
      "Location: InMemoryFileIndex [file:/C:/Users/MZC01-MINJIWOO/Downloads/customer_dataset/marketing_campaign.csv]\n",
      "ReadSchema: struct<ID:int,Year_Birth:int,Education:string,Marital_Status:string,Income:int,Kidhome:int,Teenhome:int,Dt_Customer:string,Recency:int,MntWines:int,MntFruits:int,MntMeatProducts:int,MntFishProducts:int,MntSweetProducts:int,MntGoldProds:int,NumDealsPurchases:int,NumWebPurchases:int,NumCatalogPurchases:int,NumStorePurchases:int,NumWebVisitsMonth:int,AcceptedCmp3:int,AcceptedCmp4:int,AcceptedCmp5:int,AcceptedCmp1:int,AcceptedCmp2:int,Complain:int,Z_CostContact:int,Z_Revenue:int,Response:int>\n",
      "\n",
      "(2) Project [codegen id : 1]\n",
      "Output [30]: [ID#17, Year_Birth#18, Education#19, Marital_Status#20, Income#21, Kidhome#22, Teenhome#23, Dt_Customer#24, Recency#25, MntWines#26, MntFruits#27, MntMeatProducts#28, MntFishProducts#29, MntSweetProducts#30, MntGoldProds#31, NumDealsPurchases#32, NumWebPurchases#33, NumCatalogPurchases#34, NumStorePurchases#35, NumWebVisitsMonth#36, AcceptedCmp3#37, AcceptedCmp4#38, AcceptedCmp5#39, AcceptedCmp1#40, AcceptedCmp2#41, Complain#42, Z_CostContact#43, Z_Revenue#44, Response#45, add_months(cast(gettimestamp(dt_customer#24, d-M-yyyy, TimestampType, Some(Asia/Seoul), false) as date), 1) AS date_joined#153]\n",
      "Input [29]: [ID#17, Year_Birth#18, Education#19, Marital_Status#20, Income#21, Kidhome#22, Teenhome#23, Dt_Customer#24, Recency#25, MntWines#26, MntFruits#27, MntMeatProducts#28, MntFishProducts#29, MntSweetProducts#30, MntGoldProds#31, NumDealsPurchases#32, NumWebPurchases#33, NumCatalogPurchases#34, NumStorePurchases#35, NumWebVisitsMonth#36, AcceptedCmp3#37, AcceptedCmp4#38, AcceptedCmp5#39, AcceptedCmp1#40, AcceptedCmp2#41, Complain#42, Z_CostContact#43, Z_Revenue#44, Response#45]\n",
      "\n",
      "\n"
     ]
    }
   ],
   "source": [
    "dfConverted.explain(\"formatted\")"
   ]
  },
  {
   "cell_type": "code",
   "execution_count": 12,
   "id": "2493a716",
   "metadata": {},
   "outputs": [
    {
     "name": "stdout",
     "output_type": "stream",
     "text": [
      "== Optimized Logical Plan ==\n",
      "Project [ID#17, Year_Birth#18, Education#19, Marital_Status#20, Income#21, Kidhome#22, Teenhome#23, Dt_Customer#24, Recency#25, MntWines#26, MntFruits#27, MntMeatProducts#28, MntFishProducts#29, MntSweetProducts#30, MntGoldProds#31, NumDealsPurchases#32, NumWebPurchases#33, NumCatalogPurchases#34, NumStorePurchases#35, NumWebVisitsMonth#36, AcceptedCmp3#37, AcceptedCmp4#38, AcceptedCmp5#39, AcceptedCmp1#40, ... 6 more fields], Statistics(sizeInBytes=220.0 KiB)\n",
      "+- Relation [ID#17,Year_Birth#18,Education#19,Marital_Status#20,Income#21,Kidhome#22,Teenhome#23,Dt_Customer#24,Recency#25,MntWines#26,MntFruits#27,MntMeatProducts#28,MntFishProducts#29,MntSweetProducts#30,MntGoldProds#31,NumDealsPurchases#32,NumWebPurchases#33,NumCatalogPurchases#34,NumStorePurchases#35,NumWebVisitsMonth#36,AcceptedCmp3#37,AcceptedCmp4#38,AcceptedCmp5#39,AcceptedCmp1#40,... 5 more fields] csv, Statistics(sizeInBytes=215.0 KiB)\n",
      "\n",
      "== Physical Plan ==\n",
      "*(1) Project [ID#17, Year_Birth#18, Education#19, Marital_Status#20, Income#21, Kidhome#22, Teenhome#23, Dt_Customer#24, Recency#25, MntWines#26, MntFruits#27, MntMeatProducts#28, MntFishProducts#29, MntSweetProducts#30, MntGoldProds#31, NumDealsPurchases#32, NumWebPurchases#33, NumCatalogPurchases#34, NumStorePurchases#35, NumWebVisitsMonth#36, AcceptedCmp3#37, AcceptedCmp4#38, AcceptedCmp5#39, AcceptedCmp1#40, ... 6 more fields]\n",
      "+- FileScan csv [ID#17,Year_Birth#18,Education#19,Marital_Status#20,Income#21,Kidhome#22,Teenhome#23,Dt_Customer#24,Recency#25,MntWines#26,MntFruits#27,MntMeatProducts#28,MntFishProducts#29,MntSweetProducts#30,MntGoldProds#31,NumDealsPurchases#32,NumWebPurchases#33,NumCatalogPurchases#34,NumStorePurchases#35,NumWebVisitsMonth#36,AcceptedCmp3#37,AcceptedCmp4#38,AcceptedCmp5#39,AcceptedCmp1#40,... 5 more fields] Batched: false, DataFilters: [], Format: CSV, Location: InMemoryFileIndex(1 paths)[file:/C:/Users/MZC01-MINJIWOO/Downloads/customer_dataset/marketing_cam..., PartitionFilters: [], PushedFilters: [], ReadSchema: struct<ID:int,Year_Birth:int,Education:string,Marital_Status:string,Income:int,Kidhome:int,Teenho...\n",
      "\n",
      "\n"
     ]
    }
   ],
   "source": [
    "dfConverted.explain(\"cost\")"
   ]
  },
  {
   "cell_type": "markdown",
   "id": "a339d429",
   "metadata": {},
   "source": [
    "- Transformation 요청을 Action 시점으로 미루는 것을 Spark 에서는 Lazy Evaluation 이라 부릅니다.\n",
    "- Trnasformation 에서는 Spark 가 연산을 DAG에 추가한다. \n",
    "- 큰 데이터를 다룰 때 map, filter 함수가 즉시 연산이 된다면 문제 발생 \n",
    "- One advantage of this is that Spark can make many optimization decisions after it had a chance to look at the DAG in entirety. 따라서 최적화 할 수 있는 연산의 경우 최적화를 하여 빅데이터 처리에 유리하도록 연산한다. \n",
    "- This helps avoid too much of computation and makes way for optimization."
   ]
  },
  {
   "cell_type": "code",
   "execution_count": 13,
   "id": "e42e5f4b",
   "metadata": {},
   "outputs": [
    {
     "data": {
      "text/plain": [
       "<bound method RDD.id of MapPartitionsRDD[25] at javaToPython at NativeMethodAccessorImpl.java:0>"
      ]
     },
     "execution_count": 13,
     "metadata": {},
     "output_type": "execute_result"
    }
   ],
   "source": [
    "dfSelected.rdd.id"
   ]
  },
  {
   "cell_type": "code",
   "execution_count": 14,
   "id": "a5a187ac",
   "metadata": {},
   "outputs": [
    {
     "data": {
      "text/plain": [
       "<bound method RDD.id of MapPartitionsRDD[31] at javaToPython at NativeMethodAccessorImpl.java:0>"
      ]
     },
     "execution_count": 14,
     "metadata": {},
     "output_type": "execute_result"
    }
   ],
   "source": [
    "dfConverted.rdd.id"
   ]
  },
  {
   "cell_type": "markdown",
   "id": "e2aff5f3",
   "metadata": {},
   "source": [
    "- 물리적인 데이터는 여전히 csv 파일로 존재하며 RDD 액션을 수행할 때 데이터를 메모로 읽어와서 처리하게 된다. \n",
    "- Dataframe 은 논리적인 테이블이다. "
   ]
  },
  {
   "cell_type": "code",
   "execution_count": 15,
   "id": "890c6b76",
   "metadata": {},
   "outputs": [
    {
     "name": "stdout",
     "output_type": "stream",
     "text": [
      "== Parsed Logical Plan ==\n",
      "'Project [ID#17, Year_Birth#18, Education#19, Marital_Status#20, Income#21, Kidhome#22, Teenhome#23, Dt_Customer#24, Recency#25, MntWines#26, MntFruits#27, MntMeatProducts#28, MntFishProducts#29, MntSweetProducts#30, MntGoldProds#31, NumDealsPurchases#32, NumWebPurchases#33, NumCatalogPurchases#34, NumStorePurchases#35, NumWebVisitsMonth#36, AcceptedCmp3#37, AcceptedCmp4#38, AcceptedCmp5#39, AcceptedCmp1#40, ... 6 more fields]\n",
      "+- Relation [ID#17,Year_Birth#18,Education#19,Marital_Status#20,Income#21,Kidhome#22,Teenhome#23,Dt_Customer#24,Recency#25,MntWines#26,MntFruits#27,MntMeatProducts#28,MntFishProducts#29,MntSweetProducts#30,MntGoldProds#31,NumDealsPurchases#32,NumWebPurchases#33,NumCatalogPurchases#34,NumStorePurchases#35,NumWebVisitsMonth#36,AcceptedCmp3#37,AcceptedCmp4#38,AcceptedCmp5#39,AcceptedCmp1#40,... 5 more fields] csv\n",
      "\n",
      "== Analyzed Logical Plan ==\n",
      "ID: int, Year_Birth: int, Education: string, Marital_Status: string, Income: int, Kidhome: int, Teenhome: int, Dt_Customer: string, Recency: int, MntWines: int, MntFruits: int, MntMeatProducts: int, MntFishProducts: int, MntSweetProducts: int, MntGoldProds: int, NumDealsPurchases: int, NumWebPurchases: int, NumCatalogPurchases: int, NumStorePurchases: int, NumWebVisitsMonth: int, AcceptedCmp3: int, AcceptedCmp4: int, AcceptedCmp5: int, AcceptedCmp1: int, ... 6 more fields\n",
      "Project [ID#17, Year_Birth#18, Education#19, Marital_Status#20, Income#21, Kidhome#22, Teenhome#23, Dt_Customer#24, Recency#25, MntWines#26, MntFruits#27, MntMeatProducts#28, MntFishProducts#29, MntSweetProducts#30, MntGoldProds#31, NumDealsPurchases#32, NumWebPurchases#33, NumCatalogPurchases#34, NumStorePurchases#35, NumWebVisitsMonth#36, AcceptedCmp3#37, AcceptedCmp4#38, AcceptedCmp5#39, AcceptedCmp1#40, ... 6 more fields]\n",
      "+- Relation [ID#17,Year_Birth#18,Education#19,Marital_Status#20,Income#21,Kidhome#22,Teenhome#23,Dt_Customer#24,Recency#25,MntWines#26,MntFruits#27,MntMeatProducts#28,MntFishProducts#29,MntSweetProducts#30,MntGoldProds#31,NumDealsPurchases#32,NumWebPurchases#33,NumCatalogPurchases#34,NumStorePurchases#35,NumWebVisitsMonth#36,AcceptedCmp3#37,AcceptedCmp4#38,AcceptedCmp5#39,AcceptedCmp1#40,... 5 more fields] csv\n",
      "\n",
      "== Optimized Logical Plan ==\n",
      "Project [ID#17, Year_Birth#18, Education#19, Marital_Status#20, Income#21, Kidhome#22, Teenhome#23, Dt_Customer#24, Recency#25, MntWines#26, MntFruits#27, MntMeatProducts#28, MntFishProducts#29, MntSweetProducts#30, MntGoldProds#31, NumDealsPurchases#32, NumWebPurchases#33, NumCatalogPurchases#34, NumStorePurchases#35, NumWebVisitsMonth#36, AcceptedCmp3#37, AcceptedCmp4#38, AcceptedCmp5#39, AcceptedCmp1#40, ... 6 more fields]\n",
      "+- Relation [ID#17,Year_Birth#18,Education#19,Marital_Status#20,Income#21,Kidhome#22,Teenhome#23,Dt_Customer#24,Recency#25,MntWines#26,MntFruits#27,MntMeatProducts#28,MntFishProducts#29,MntSweetProducts#30,MntGoldProds#31,NumDealsPurchases#32,NumWebPurchases#33,NumCatalogPurchases#34,NumStorePurchases#35,NumWebVisitsMonth#36,AcceptedCmp3#37,AcceptedCmp4#38,AcceptedCmp5#39,AcceptedCmp1#40,... 5 more fields] csv\n",
      "\n",
      "== Physical Plan ==\n",
      "*(1) Project [ID#17, Year_Birth#18, Education#19, Marital_Status#20, Income#21, Kidhome#22, Teenhome#23, Dt_Customer#24, Recency#25, MntWines#26, MntFruits#27, MntMeatProducts#28, MntFishProducts#29, MntSweetProducts#30, MntGoldProds#31, NumDealsPurchases#32, NumWebPurchases#33, NumCatalogPurchases#34, NumStorePurchases#35, NumWebVisitsMonth#36, AcceptedCmp3#37, AcceptedCmp4#38, AcceptedCmp5#39, AcceptedCmp1#40, ... 6 more fields]\n",
      "+- FileScan csv [ID#17,Year_Birth#18,Education#19,Marital_Status#20,Income#21,Kidhome#22,Teenhome#23,Dt_Customer#24,Recency#25,MntWines#26,MntFruits#27,MntMeatProducts#28,MntFishProducts#29,MntSweetProducts#30,MntGoldProds#31,NumDealsPurchases#32,NumWebPurchases#33,NumCatalogPurchases#34,NumStorePurchases#35,NumWebVisitsMonth#36,AcceptedCmp3#37,AcceptedCmp4#38,AcceptedCmp5#39,AcceptedCmp1#40,... 5 more fields] Batched: false, DataFilters: [], Format: CSV, Location: InMemoryFileIndex(1 paths)[file:/C:/Users/MZC01-MINJIWOO/Downloads/customer_dataset/marketing_cam..., PartitionFilters: [], PushedFilters: [], ReadSchema: struct<ID:int,Year_Birth:int,Education:string,Marital_Status:string,Income:int,Kidhome:int,Teenho...\n",
      "\n"
     ]
    }
   ],
   "source": [
    "dfConverted.explain(\"extended\")"
   ]
  },
  {
   "cell_type": "markdown",
   "id": "e2353ed0",
   "metadata": {},
   "source": [
    "- Spark 는 실행 계획을 생성 하고 그것을 기반으로 분석하고, 최적화 한 뒤 데이터를 읽거나 가공하는 등 물리적으로 실행한다 \n",
    "- RDD (Resilient Distributed Dataset) 는 DataFrame 과 유사하게 Spark 에서 분산 데이터를 다룰 수 있도록 제공하는 Low-level API\n",
    "- RDD는 DataFrame이 column 기반으로 Table 형태로 데이터를 쉽게 다를 수 있도록 추상화 된 반면에 레코드 기반으로 데이터를 가공할 수 있는 low level API 를 제공"
   ]
  },
  {
   "cell_type": "code",
   "execution_count": 16,
   "id": "05801db1",
   "metadata": {},
   "outputs": [
    {
     "name": "stdout",
     "output_type": "stream",
     "text": [
      "== Parsed Logical Plan ==\n",
      "GlobalLimit 5\n",
      "+- LocalLimit 5\n",
      "   +- Project [education#19]\n",
      "      +- Project [ID#17, Year_Birth#18, Education#19, Marital_Status#20, Income#21, Kidhome#22, Teenhome#23, Dt_Customer#24, Recency#25, MntWines#26, MntFruits#27, MntMeatProducts#28, MntFishProducts#29, MntSweetProducts#30, MntGoldProds#31, NumDealsPurchases#32, NumWebPurchases#33, NumCatalogPurchases#34, NumStorePurchases#35, NumWebVisitsMonth#36, AcceptedCmp3#37, AcceptedCmp4#38, AcceptedCmp5#39, AcceptedCmp1#40, ... 6 more fields]\n",
      "         +- Relation [ID#17,Year_Birth#18,Education#19,Marital_Status#20,Income#21,Kidhome#22,Teenhome#23,Dt_Customer#24,Recency#25,MntWines#26,MntFruits#27,MntMeatProducts#28,MntFishProducts#29,MntSweetProducts#30,MntGoldProds#31,NumDealsPurchases#32,NumWebPurchases#33,NumCatalogPurchases#34,NumStorePurchases#35,NumWebVisitsMonth#36,AcceptedCmp3#37,AcceptedCmp4#38,AcceptedCmp5#39,AcceptedCmp1#40,... 5 more fields] csv\n",
      "\n",
      "== Analyzed Logical Plan ==\n",
      "education: string\n",
      "GlobalLimit 5\n",
      "+- LocalLimit 5\n",
      "   +- Project [education#19]\n",
      "      +- Project [ID#17, Year_Birth#18, Education#19, Marital_Status#20, Income#21, Kidhome#22, Teenhome#23, Dt_Customer#24, Recency#25, MntWines#26, MntFruits#27, MntMeatProducts#28, MntFishProducts#29, MntSweetProducts#30, MntGoldProds#31, NumDealsPurchases#32, NumWebPurchases#33, NumCatalogPurchases#34, NumStorePurchases#35, NumWebVisitsMonth#36, AcceptedCmp3#37, AcceptedCmp4#38, AcceptedCmp5#39, AcceptedCmp1#40, ... 6 more fields]\n",
      "         +- Relation [ID#17,Year_Birth#18,Education#19,Marital_Status#20,Income#21,Kidhome#22,Teenhome#23,Dt_Customer#24,Recency#25,MntWines#26,MntFruits#27,MntMeatProducts#28,MntFishProducts#29,MntSweetProducts#30,MntGoldProds#31,NumDealsPurchases#32,NumWebPurchases#33,NumCatalogPurchases#34,NumStorePurchases#35,NumWebVisitsMonth#36,AcceptedCmp3#37,AcceptedCmp4#38,AcceptedCmp5#39,AcceptedCmp1#40,... 5 more fields] csv\n",
      "\n",
      "== Optimized Logical Plan ==\n",
      "GlobalLimit 5\n",
      "+- LocalLimit 5\n",
      "   +- Project [education#19]\n",
      "      +- Relation [ID#17,Year_Birth#18,Education#19,Marital_Status#20,Income#21,Kidhome#22,Teenhome#23,Dt_Customer#24,Recency#25,MntWines#26,MntFruits#27,MntMeatProducts#28,MntFishProducts#29,MntSweetProducts#30,MntGoldProds#31,NumDealsPurchases#32,NumWebPurchases#33,NumCatalogPurchases#34,NumStorePurchases#35,NumWebVisitsMonth#36,AcceptedCmp3#37,AcceptedCmp4#38,AcceptedCmp5#39,AcceptedCmp1#40,... 5 more fields] csv\n",
      "\n",
      "== Physical Plan ==\n",
      "CollectLimit 5\n",
      "+- FileScan csv [Education#19] Batched: false, DataFilters: [], Format: CSV, Location: InMemoryFileIndex(1 paths)[file:/C:/Users/MZC01-MINJIWOO/Downloads/customer_dataset/marketing_cam..., PartitionFilters: [], PushedFilters: [], ReadSchema: struct<Education:string>\n",
      "\n"
     ]
    }
   ],
   "source": [
    "dfConverted.select(\"education\").limit(5).explain('extended')"
   ]
  },
  {
   "cell_type": "markdown",
   "id": "9f2d6e19",
   "metadata": {},
   "source": [
    "- 데이터를 읽는 시점에 저장소 (또는 Parquet 와 같은 일부 파일 포맷) 단위에서 필터링이 가능하다면 더 적은양의 데이터만 읽어오면 되므로 네트워크 비용 절감 등 성능상의 이점이 있다. "
   ]
  },
  {
   "cell_type": "code",
   "execution_count": 17,
   "id": "997e3537",
   "metadata": {},
   "outputs": [
    {
     "name": "stdout",
     "output_type": "stream",
     "text": [
      "Found 1 WholeStageCodegen subtrees.\n",
      "== Subtree 1 / 1 (maxMethodCodeSize:1947; maxConstantPoolSize:145(0.22% used); numInnerClasses:0) ==\n",
      "*(1) Project [ID#17, Year_Birth#18, Education#19, Marital_Status#20, Income#21, Kidhome#22, Teenhome#23, Dt_Customer#24, Recency#25, MntWines#26, MntFruits#27, MntMeatProducts#28, MntFishProducts#29, MntSweetProducts#30, MntGoldProds#31, NumDealsPurchases#32, NumWebPurchases#33, NumCatalogPurchases#34, NumStorePurchases#35, NumWebVisitsMonth#36, AcceptedCmp3#37, AcceptedCmp4#38, AcceptedCmp5#39, AcceptedCmp1#40, ... 6 more fields]\n",
      "+- FileScan csv [ID#17,Year_Birth#18,Education#19,Marital_Status#20,Income#21,Kidhome#22,Teenhome#23,Dt_Customer#24,Recency#25,MntWines#26,MntFruits#27,MntMeatProducts#28,MntFishProducts#29,MntSweetProducts#30,MntGoldProds#31,NumDealsPurchases#32,NumWebPurchases#33,NumCatalogPurchases#34,NumStorePurchases#35,NumWebVisitsMonth#36,AcceptedCmp3#37,AcceptedCmp4#38,AcceptedCmp5#39,AcceptedCmp1#40,... 5 more fields] Batched: false, DataFilters: [], Format: CSV, Location: InMemoryFileIndex(1 paths)[file:/C:/Users/MZC01-MINJIWOO/Downloads/customer_dataset/marketing_cam..., PartitionFilters: [], PushedFilters: [], ReadSchema: struct<ID:int,Year_Birth:int,Education:string,Marital_Status:string,Income:int,Kidhome:int,Teenho...\n",
      "\n",
      "Generated code:\n",
      "/* 001 */ public Object generate(Object[] references) {\n",
      "/* 002 */   return new GeneratedIteratorForCodegenStage1(references);\n",
      "/* 003 */ }\n",
      "/* 004 */\n",
      "/* 005 */ // codegenStageId=1\n",
      "/* 006 */ final class GeneratedIteratorForCodegenStage1 extends org.apache.spark.sql.execution.BufferedRowIterator {\n",
      "/* 007 */   private Object[] references;\n",
      "/* 008 */   private scala.collection.Iterator[] inputs;\n",
      "/* 009 */   private scala.collection.Iterator inputadapter_input_0;\n",
      "/* 010 */   private org.apache.spark.sql.catalyst.expressions.codegen.UnsafeRowWriter[] project_mutableStateArray_0 = new org.apache.spark.sql.catalyst.expressions.codegen.UnsafeRowWriter[1];\n",
      "/* 011 */\n",
      "/* 012 */   public GeneratedIteratorForCodegenStage1(Object[] references) {\n",
      "/* 013 */     this.references = references;\n",
      "/* 014 */   }\n",
      "/* 015 */\n",
      "/* 016 */   public void init(int index, scala.collection.Iterator[] inputs) {\n",
      "/* 017 */     partitionIndex = index;\n",
      "/* 018 */     this.inputs = inputs;\n",
      "/* 019 */     inputadapter_input_0 = inputs[0];\n",
      "/* 020 */     project_mutableStateArray_0[0] = new org.apache.spark.sql.catalyst.expressions.codegen.UnsafeRowWriter(30, 96);\n",
      "/* 021 */\n",
      "/* 022 */   }\n",
      "/* 023 */\n",
      "/* 024 */   protected void processNext() throws java.io.IOException {\n",
      "/* 025 */     while ( inputadapter_input_0.hasNext()) {\n",
      "/* 026 */       InternalRow inputadapter_row_0 = (InternalRow) inputadapter_input_0.next();\n",
      "/* 027 */\n",
      "/* 028 */       boolean inputadapter_isNull_7 = inputadapter_row_0.isNullAt(7);\n",
      "/* 029 */       UTF8String inputadapter_value_7 = inputadapter_isNull_7 ?\n",
      "/* 030 */       null : (inputadapter_row_0.getUTF8String(7));\n",
      "/* 031 */\n",
      "/* 032 */       // common sub-expressions\n",
      "/* 033 */\n",
      "/* 034 */       boolean inputadapter_isNull_0 = inputadapter_row_0.isNullAt(0);\n",
      "/* 035 */       int inputadapter_value_0 = inputadapter_isNull_0 ?\n",
      "/* 036 */       -1 : (inputadapter_row_0.getInt(0));\n",
      "/* 037 */       boolean inputadapter_isNull_1 = inputadapter_row_0.isNullAt(1);\n",
      "/* 038 */       int inputadapter_value_1 = inputadapter_isNull_1 ?\n",
      "/* 039 */       -1 : (inputadapter_row_0.getInt(1));\n",
      "/* 040 */       boolean inputadapter_isNull_2 = inputadapter_row_0.isNullAt(2);\n",
      "/* 041 */       UTF8String inputadapter_value_2 = inputadapter_isNull_2 ?\n",
      "/* 042 */       null : (inputadapter_row_0.getUTF8String(2));\n",
      "/* 043 */       boolean inputadapter_isNull_3 = inputadapter_row_0.isNullAt(3);\n",
      "/* 044 */       UTF8String inputadapter_value_3 = inputadapter_isNull_3 ?\n",
      "/* 045 */       null : (inputadapter_row_0.getUTF8String(3));\n",
      "/* 046 */       boolean inputadapter_isNull_4 = inputadapter_row_0.isNullAt(4);\n",
      "/* 047 */       int inputadapter_value_4 = inputadapter_isNull_4 ?\n",
      "/* 048 */       -1 : (inputadapter_row_0.getInt(4));\n",
      "/* 049 */       boolean inputadapter_isNull_5 = inputadapter_row_0.isNullAt(5);\n",
      "/* 050 */       int inputadapter_value_5 = inputadapter_isNull_5 ?\n",
      "/* 051 */       -1 : (inputadapter_row_0.getInt(5));\n",
      "/* 052 */       boolean inputadapter_isNull_6 = inputadapter_row_0.isNullAt(6);\n",
      "/* 053 */       int inputadapter_value_6 = inputadapter_isNull_6 ?\n",
      "/* 054 */       -1 : (inputadapter_row_0.getInt(6));\n",
      "/* 055 */       boolean inputadapter_isNull_8 = inputadapter_row_0.isNullAt(8);\n",
      "/* 056 */       int inputadapter_value_8 = inputadapter_isNull_8 ?\n",
      "/* 057 */       -1 : (inputadapter_row_0.getInt(8));\n",
      "/* 058 */       boolean inputadapter_isNull_9 = inputadapter_row_0.isNullAt(9);\n",
      "/* 059 */       int inputadapter_value_9 = inputadapter_isNull_9 ?\n",
      "/* 060 */       -1 : (inputadapter_row_0.getInt(9));\n",
      "/* 061 */       boolean inputadapter_isNull_10 = inputadapter_row_0.isNullAt(10);\n",
      "/* 062 */       int inputadapter_value_10 = inputadapter_isNull_10 ?\n",
      "/* 063 */       -1 : (inputadapter_row_0.getInt(10));\n",
      "/* 064 */       boolean inputadapter_isNull_11 = inputadapter_row_0.isNullAt(11);\n",
      "/* 065 */       int inputadapter_value_11 = inputadapter_isNull_11 ?\n",
      "/* 066 */       -1 : (inputadapter_row_0.getInt(11));\n",
      "/* 067 */       boolean inputadapter_isNull_12 = inputadapter_row_0.isNullAt(12);\n",
      "/* 068 */       int inputadapter_value_12 = inputadapter_isNull_12 ?\n",
      "/* 069 */       -1 : (inputadapter_row_0.getInt(12));\n",
      "/* 070 */       boolean inputadapter_isNull_13 = inputadapter_row_0.isNullAt(13);\n",
      "/* 071 */       int inputadapter_value_13 = inputadapter_isNull_13 ?\n",
      "/* 072 */       -1 : (inputadapter_row_0.getInt(13));\n",
      "/* 073 */       boolean inputadapter_isNull_14 = inputadapter_row_0.isNullAt(14);\n",
      "/* 074 */       int inputadapter_value_14 = inputadapter_isNull_14 ?\n",
      "/* 075 */       -1 : (inputadapter_row_0.getInt(14));\n",
      "/* 076 */       boolean inputadapter_isNull_15 = inputadapter_row_0.isNullAt(15);\n",
      "/* 077 */       int inputadapter_value_15 = inputadapter_isNull_15 ?\n",
      "/* 078 */       -1 : (inputadapter_row_0.getInt(15));\n",
      "/* 079 */       boolean inputadapter_isNull_16 = inputadapter_row_0.isNullAt(16);\n",
      "/* 080 */       int inputadapter_value_16 = inputadapter_isNull_16 ?\n",
      "/* 081 */       -1 : (inputadapter_row_0.getInt(16));\n",
      "/* 082 */       boolean inputadapter_isNull_17 = inputadapter_row_0.isNullAt(17);\n",
      "/* 083 */       int inputadapter_value_17 = inputadapter_isNull_17 ?\n",
      "/* 084 */       -1 : (inputadapter_row_0.getInt(17));\n",
      "/* 085 */       boolean inputadapter_isNull_18 = inputadapter_row_0.isNullAt(18);\n",
      "/* 086 */       int inputadapter_value_18 = inputadapter_isNull_18 ?\n",
      "/* 087 */       -1 : (inputadapter_row_0.getInt(18));\n",
      "/* 088 */       boolean inputadapter_isNull_19 = inputadapter_row_0.isNullAt(19);\n",
      "/* 089 */       int inputadapter_value_19 = inputadapter_isNull_19 ?\n",
      "/* 090 */       -1 : (inputadapter_row_0.getInt(19));\n",
      "/* 091 */       boolean inputadapter_isNull_20 = inputadapter_row_0.isNullAt(20);\n",
      "/* 092 */       int inputadapter_value_20 = inputadapter_isNull_20 ?\n",
      "/* 093 */       -1 : (inputadapter_row_0.getInt(20));\n",
      "/* 094 */       boolean inputadapter_isNull_21 = inputadapter_row_0.isNullAt(21);\n",
      "/* 095 */       int inputadapter_value_21 = inputadapter_isNull_21 ?\n",
      "/* 096 */       -1 : (inputadapter_row_0.getInt(21));\n",
      "/* 097 */       boolean inputadapter_isNull_22 = inputadapter_row_0.isNullAt(22);\n",
      "/* 098 */       int inputadapter_value_22 = inputadapter_isNull_22 ?\n",
      "/* 099 */       -1 : (inputadapter_row_0.getInt(22));\n",
      "/* 100 */       boolean inputadapter_isNull_23 = inputadapter_row_0.isNullAt(23);\n",
      "/* 101 */       int inputadapter_value_23 = inputadapter_isNull_23 ?\n",
      "/* 102 */       -1 : (inputadapter_row_0.getInt(23));\n",
      "/* 103 */       boolean inputadapter_isNull_24 = inputadapter_row_0.isNullAt(24);\n",
      "/* 104 */       int inputadapter_value_24 = inputadapter_isNull_24 ?\n",
      "/* 105 */       -1 : (inputadapter_row_0.getInt(24));\n",
      "/* 106 */       boolean inputadapter_isNull_25 = inputadapter_row_0.isNullAt(25);\n",
      "/* 107 */       int inputadapter_value_25 = inputadapter_isNull_25 ?\n",
      "/* 108 */       -1 : (inputadapter_row_0.getInt(25));\n",
      "/* 109 */       boolean inputadapter_isNull_26 = inputadapter_row_0.isNullAt(26);\n",
      "/* 110 */       int inputadapter_value_26 = inputadapter_isNull_26 ?\n",
      "/* 111 */       -1 : (inputadapter_row_0.getInt(26));\n",
      "/* 112 */       boolean inputadapter_isNull_27 = inputadapter_row_0.isNullAt(27);\n",
      "/* 113 */       int inputadapter_value_27 = inputadapter_isNull_27 ?\n",
      "/* 114 */       -1 : (inputadapter_row_0.getInt(27));\n",
      "/* 115 */       boolean inputadapter_isNull_28 = inputadapter_row_0.isNullAt(28);\n",
      "/* 116 */       int inputadapter_value_28 = inputadapter_isNull_28 ?\n",
      "/* 117 */       -1 : (inputadapter_row_0.getInt(28));\n",
      "/* 118 */       boolean project_isNull_29 = true;\n",
      "/* 119 */       int project_value_29 = -1;\n",
      "/* 120 */       boolean project_isNull_31 = true;\n",
      "/* 121 */       long project_value_31 = -1L;\n",
      "/* 122 */\n",
      "/* 123 */       if (!inputadapter_isNull_7) {\n",
      "/* 124 */         project_isNull_31 = false; // resultCode could change nullability.\n",
      "/* 125 */\n",
      "/* 126 */         try {\n",
      "/* 127 */           project_value_31 = ((org.apache.spark.sql.catalyst.util.TimestampFormatter) references[0] /* formatter */).parse(inputadapter_value_7.toString()) / 1;\n",
      "/* 128 */         } catch (java.time.DateTimeException e) {\n",
      "/* 129 */           project_isNull_31 = true;\n",
      "/* 130 */         } catch (java.text.ParseException e) {\n",
      "/* 131 */           project_isNull_31 = true;\n",
      "/* 132 */         }\n",
      "/* 133 */\n",
      "/* 134 */       }\n",
      "/* 135 */       boolean project_isNull_30 = project_isNull_31;\n",
      "/* 136 */       int project_value_30 = -1;\n",
      "/* 137 */       if (!project_isNull_31) {\n",
      "/* 138 */         project_value_30 =\n",
      "/* 139 */         org.apache.spark.sql.catalyst.util.DateTimeUtils.microsToDays(project_value_31, ((java.time.ZoneId) references[2] /* zoneId */));\n",
      "/* 140 */       }\n",
      "/* 141 */       if (!project_isNull_30) {\n",
      "/* 142 */         project_isNull_29 = false; // resultCode could change nullability.\n",
      "/* 143 */         project_value_29 = org.apache.spark.sql.catalyst.util.DateTimeUtils.dateAddMonths(project_value_30, 1);\n",
      "/* 144 */\n",
      "/* 145 */       }\n",
      "/* 146 */       project_mutableStateArray_0[0].reset();\n",
      "/* 147 */\n",
      "/* 148 */       project_mutableStateArray_0[0].zeroOutNullBytes();\n",
      "/* 149 */\n",
      "/* 150 */       if (inputadapter_isNull_0) {\n",
      "/* 151 */         project_mutableStateArray_0[0].setNullAt(0);\n",
      "/* 152 */       } else {\n",
      "/* 153 */         project_mutableStateArray_0[0].write(0, inputadapter_value_0);\n",
      "/* 154 */       }\n",
      "/* 155 */\n",
      "/* 156 */       if (inputadapter_isNull_1) {\n",
      "/* 157 */         project_mutableStateArray_0[0].setNullAt(1);\n",
      "/* 158 */       } else {\n",
      "/* 159 */         project_mutableStateArray_0[0].write(1, inputadapter_value_1);\n",
      "/* 160 */       }\n",
      "/* 161 */\n",
      "/* 162 */       if (inputadapter_isNull_2) {\n",
      "/* 163 */         project_mutableStateArray_0[0].setNullAt(2);\n",
      "/* 164 */       } else {\n",
      "/* 165 */         project_mutableStateArray_0[0].write(2, inputadapter_value_2);\n",
      "/* 166 */       }\n",
      "/* 167 */\n",
      "/* 168 */       if (inputadapter_isNull_3) {\n",
      "/* 169 */         project_mutableStateArray_0[0].setNullAt(3);\n",
      "/* 170 */       } else {\n",
      "/* 171 */         project_mutableStateArray_0[0].write(3, inputadapter_value_3);\n",
      "/* 172 */       }\n",
      "/* 173 */\n",
      "/* 174 */       if (inputadapter_isNull_4) {\n",
      "/* 175 */         project_mutableStateArray_0[0].setNullAt(4);\n",
      "/* 176 */       } else {\n",
      "/* 177 */         project_mutableStateArray_0[0].write(4, inputadapter_value_4);\n",
      "/* 178 */       }\n",
      "/* 179 */\n",
      "/* 180 */       if (inputadapter_isNull_5) {\n",
      "/* 181 */         project_mutableStateArray_0[0].setNullAt(5);\n",
      "/* 182 */       } else {\n",
      "/* 183 */         project_mutableStateArray_0[0].write(5, inputadapter_value_5);\n",
      "/* 184 */       }\n",
      "/* 185 */\n",
      "/* 186 */       if (inputadapter_isNull_6) {\n",
      "/* 187 */         project_mutableStateArray_0[0].setNullAt(6);\n",
      "/* 188 */       } else {\n",
      "/* 189 */         project_mutableStateArray_0[0].write(6, inputadapter_value_6);\n",
      "/* 190 */       }\n",
      "/* 191 */\n",
      "/* 192 */       if (inputadapter_isNull_7) {\n",
      "/* 193 */         project_mutableStateArray_0[0].setNullAt(7);\n",
      "/* 194 */       } else {\n",
      "/* 195 */         project_mutableStateArray_0[0].write(7, inputadapter_value_7);\n",
      "/* 196 */       }\n",
      "/* 197 */\n",
      "/* 198 */       if (inputadapter_isNull_8) {\n",
      "/* 199 */         project_mutableStateArray_0[0].setNullAt(8);\n",
      "/* 200 */       } else {\n",
      "/* 201 */         project_mutableStateArray_0[0].write(8, inputadapter_value_8);\n",
      "/* 202 */       }\n",
      "/* 203 */\n",
      "/* 204 */       if (inputadapter_isNull_9) {\n",
      "/* 205 */         project_mutableStateArray_0[0].setNullAt(9);\n",
      "/* 206 */       } else {\n",
      "/* 207 */         project_mutableStateArray_0[0].write(9, inputadapter_value_9);\n",
      "/* 208 */       }\n",
      "/* 209 */\n",
      "/* 210 */       if (inputadapter_isNull_10) {\n",
      "/* 211 */         project_mutableStateArray_0[0].setNullAt(10);\n",
      "/* 212 */       } else {\n",
      "/* 213 */         project_mutableStateArray_0[0].write(10, inputadapter_value_10);\n",
      "/* 214 */       }\n",
      "/* 215 */\n",
      "/* 216 */       if (inputadapter_isNull_11) {\n",
      "/* 217 */         project_mutableStateArray_0[0].setNullAt(11);\n",
      "/* 218 */       } else {\n",
      "/* 219 */         project_mutableStateArray_0[0].write(11, inputadapter_value_11);\n",
      "/* 220 */       }\n",
      "/* 221 */\n",
      "/* 222 */       if (inputadapter_isNull_12) {\n",
      "/* 223 */         project_mutableStateArray_0[0].setNullAt(12);\n",
      "/* 224 */       } else {\n",
      "/* 225 */         project_mutableStateArray_0[0].write(12, inputadapter_value_12);\n",
      "/* 226 */       }\n",
      "/* 227 */\n",
      "/* 228 */       if (inputadapter_isNull_13) {\n",
      "/* 229 */         project_mutableStateArray_0[0].setNullAt(13);\n",
      "/* 230 */       } else {\n",
      "/* 231 */         project_mutableStateArray_0[0].write(13, inputadapter_value_13);\n",
      "/* 232 */       }\n",
      "/* 233 */\n",
      "/* 234 */       if (inputadapter_isNull_14) {\n",
      "/* 235 */         project_mutableStateArray_0[0].setNullAt(14);\n",
      "/* 236 */       } else {\n",
      "/* 237 */         project_mutableStateArray_0[0].write(14, inputadapter_value_14);\n",
      "/* 238 */       }\n",
      "/* 239 */\n",
      "/* 240 */       if (inputadapter_isNull_15) {\n",
      "/* 241 */         project_mutableStateArray_0[0].setNullAt(15);\n",
      "/* 242 */       } else {\n",
      "/* 243 */         project_mutableStateArray_0[0].write(15, inputadapter_value_15);\n",
      "/* 244 */       }\n",
      "/* 245 */\n",
      "/* 246 */       if (inputadapter_isNull_16) {\n",
      "/* 247 */         project_mutableStateArray_0[0].setNullAt(16);\n",
      "/* 248 */       } else {\n",
      "/* 249 */         project_mutableStateArray_0[0].write(16, inputadapter_value_16);\n",
      "/* 250 */       }\n",
      "/* 251 */\n",
      "/* 252 */       if (inputadapter_isNull_17) {\n",
      "/* 253 */         project_mutableStateArray_0[0].setNullAt(17);\n",
      "/* 254 */       } else {\n",
      "/* 255 */         project_mutableStateArray_0[0].write(17, inputadapter_value_17);\n",
      "/* 256 */       }\n",
      "/* 257 */\n",
      "/* 258 */       if (inputadapter_isNull_18) {\n",
      "/* 259 */         project_mutableStateArray_0[0].setNullAt(18);\n",
      "/* 260 */       } else {\n",
      "/* 261 */         project_mutableStateArray_0[0].write(18, inputadapter_value_18);\n",
      "/* 262 */       }\n",
      "/* 263 */\n",
      "/* 264 */       if (inputadapter_isNull_19) {\n",
      "/* 265 */         project_mutableStateArray_0[0].setNullAt(19);\n",
      "/* 266 */       } else {\n",
      "/* 267 */         project_mutableStateArray_0[0].write(19, inputadapter_value_19);\n",
      "/* 268 */       }\n",
      "/* 269 */\n",
      "/* 270 */       if (inputadapter_isNull_20) {\n",
      "/* 271 */         project_mutableStateArray_0[0].setNullAt(20);\n",
      "/* 272 */       } else {\n",
      "/* 273 */         project_mutableStateArray_0[0].write(20, inputadapter_value_20);\n",
      "/* 274 */       }\n",
      "/* 275 */\n",
      "/* 276 */       if (inputadapter_isNull_21) {\n",
      "/* 277 */         project_mutableStateArray_0[0].setNullAt(21);\n",
      "/* 278 */       } else {\n",
      "/* 279 */         project_mutableStateArray_0[0].write(21, inputadapter_value_21);\n",
      "/* 280 */       }\n",
      "/* 281 */\n",
      "/* 282 */       if (inputadapter_isNull_22) {\n",
      "/* 283 */         project_mutableStateArray_0[0].setNullAt(22);\n",
      "/* 284 */       } else {\n",
      "/* 285 */         project_mutableStateArray_0[0].write(22, inputadapter_value_22);\n",
      "/* 286 */       }\n",
      "/* 287 */\n",
      "/* 288 */       if (inputadapter_isNull_23) {\n",
      "/* 289 */         project_mutableStateArray_0[0].setNullAt(23);\n",
      "/* 290 */       } else {\n",
      "/* 291 */         project_mutableStateArray_0[0].write(23, inputadapter_value_23);\n",
      "/* 292 */       }\n",
      "/* 293 */\n",
      "/* 294 */       if (inputadapter_isNull_24) {\n",
      "/* 295 */         project_mutableStateArray_0[0].setNullAt(24);\n",
      "/* 296 */       } else {\n",
      "/* 297 */         project_mutableStateArray_0[0].write(24, inputadapter_value_24);\n",
      "/* 298 */       }\n",
      "/* 299 */\n",
      "/* 300 */       if (inputadapter_isNull_25) {\n",
      "/* 301 */         project_mutableStateArray_0[0].setNullAt(25);\n",
      "/* 302 */       } else {\n",
      "/* 303 */         project_mutableStateArray_0[0].write(25, inputadapter_value_25);\n",
      "/* 304 */       }\n",
      "/* 305 */\n",
      "/* 306 */       if (inputadapter_isNull_26) {\n",
      "/* 307 */         project_mutableStateArray_0[0].setNullAt(26);\n",
      "/* 308 */       } else {\n",
      "/* 309 */         project_mutableStateArray_0[0].write(26, inputadapter_value_26);\n",
      "/* 310 */       }\n",
      "/* 311 */\n",
      "/* 312 */       if (inputadapter_isNull_27) {\n",
      "/* 313 */         project_mutableStateArray_0[0].setNullAt(27);\n",
      "/* 314 */       } else {\n",
      "/* 315 */         project_mutableStateArray_0[0].write(27, inputadapter_value_27);\n",
      "/* 316 */       }\n",
      "/* 317 */\n",
      "/* 318 */       if (inputadapter_isNull_28) {\n",
      "/* 319 */         project_mutableStateArray_0[0].setNullAt(28);\n",
      "/* 320 */       } else {\n",
      "/* 321 */         project_mutableStateArray_0[0].write(28, inputadapter_value_28);\n",
      "/* 322 */       }\n",
      "/* 323 */\n",
      "/* 324 */       if (project_isNull_29) {\n",
      "/* 325 */         project_mutableStateArray_0[0].setNullAt(29);\n",
      "/* 326 */       } else {\n",
      "/* 327 */         project_mutableStateArray_0[0].write(29, project_value_29);\n",
      "/* 328 */       }\n",
      "/* 329 */       append((project_mutableStateArray_0[0].getRow()));\n",
      "/* 330 */       if (shouldStop()) return;\n",
      "/* 331 */     }\n",
      "/* 332 */   }\n",
      "/* 333 */\n",
      "/* 334 */ }\n",
      "\n",
      "\n"
     ]
    }
   ],
   "source": [
    "dfConverted.explain(\"codegen\")"
   ]
  },
  {
   "cell_type": "markdown",
   "id": "995dccbb",
   "metadata": {},
   "source": [
    "### Action \n",
    "- Transformation 이 누적되면서 데이터를 어떻게 가공할지가 DataFrame 의 실행 계획으로 기록된다. \n",
    "- 사용자는 최종 시점에 여태까지 작업했던 데이터를 보거나 다른 곳으로 저장하는 행동을 취하게 된다. "
   ]
  },
  {
   "cell_type": "code",
   "execution_count": 18,
   "id": "c3726aa8",
   "metadata": {},
   "outputs": [
    {
     "name": "stdout",
     "output_type": "stream",
     "text": [
      "Partition Count of Dataframe df:\t\t1\n",
      "Partition Count of Dataframe dfSelected:\t\t1\n",
      "Partition Count of Dataframe dfConverted:\t\t1\n"
     ]
    }
   ],
   "source": [
    "print(f\"Partition Count of Dataframe df:\\t\\t{df.rdd.getNumPartitions()}\")\n",
    "print(f\"Partition Count of Dataframe dfSelected:\\t\\t{dfSelected.rdd.getNumPartitions()}\")\n",
    "print(f\"Partition Count of Dataframe dfConverted:\\t\\t{dfConverted.rdd.getNumPartitions()}\")"
   ]
  },
  {
   "cell_type": "code",
   "execution_count": 19,
   "id": "4f45f1e3",
   "metadata": {},
   "outputs": [
    {
     "name": "stdout",
     "output_type": "stream",
     "text": [
      "Partition Count of Dataframe dfPartitioned:\t\t5\n"
     ]
    }
   ],
   "source": [
    "# partition 숫자 늘리기 \n",
    "dfPartitioned = dfConverted.repartition(5)\n",
    "print(f\"Partition Count of Dataframe dfPartitioned:\\t\\t{dfPartitioned.rdd.getNumPartitions()}\")"
   ]
  },
  {
   "cell_type": "code",
   "execution_count": 20,
   "id": "71cb2287",
   "metadata": {},
   "outputs": [
    {
     "data": {
      "text/plain": [
       "DataFrame[ID: int, Year_Birth: int, Education: string, Marital_Status: string, Income: int, Kidhome: int, Teenhome: int, Dt_Customer: string, Recency: int, MntWines: int, MntFruits: int, MntMeatProducts: int, MntFishProducts: int, MntSweetProducts: int, MntGoldProds: int, NumDealsPurchases: int, NumWebPurchases: int, NumCatalogPurchases: int, NumStorePurchases: int, NumWebVisitsMonth: int, AcceptedCmp3: int, AcceptedCmp4: int, AcceptedCmp5: int, AcceptedCmp1: int, AcceptedCmp2: int, Complain: int, Z_CostContact: int, Z_Revenue: int, Response: int, date_joined: date]"
      ]
     },
     "execution_count": 20,
     "metadata": {},
     "output_type": "execute_result"
    }
   ],
   "source": [
    "dfConverted.repartition(col(\"id\"))"
   ]
  },
  {
   "cell_type": "markdown",
   "id": "4a187b66",
   "metadata": {},
   "source": [
    "### repartition() vs coalesce() \n",
    "- repartition : Partition 을 늘리고 줄일 수 있음. 데이터 재배치가 발생함. 네트워크 비용이 비싸다. \n",
    "- coalesce : Partition 을 현재 숫자 이하로만 줄일 수 있음. 대신 줄이는 과정에서 옮길 필요가 없는 데이터가 있다면 옮기지 않으므로 비싼 네트워크 연산을 피할 수 있음. "
   ]
  },
  {
   "cell_type": "code",
   "execution_count": 21,
   "id": "88c25bab",
   "metadata": {},
   "outputs": [
    {
     "name": "stdout",
     "output_type": "stream",
     "text": [
      "+-------+------------------+------------------+---------+-------------------+------------------+-------------+-----------------+\n",
      "|summary|                id|        year_birth|education|          count_kid|        count_teen|date_customer|  days_last_login|\n",
      "+-------+------------------+------------------+---------+-------------------+------------------+-------------+-----------------+\n",
      "|  count|              2240|              2240|     2240|               2240|              2240|         2240|             2240|\n",
      "|   mean| 5592.159821428571|1968.8058035714287|     null|0.44419642857142855|           0.50625|         null|        49.109375|\n",
      "| stddev|3246.6621975643416|11.984069456885827|     null| 0.5383980977345935|0.5445382307698761|         null|28.96245280837821|\n",
      "|    min|                 0|              1893| 2n Cycle|                  0|                 0|   01-01-2013|                0|\n",
      "|    max|             11191|              1996|      PhD|                  2|                 2|   31-12-2013|               99|\n",
      "+-------+------------------+------------------+---------+-------------------+------------------+-------------+-----------------+\n",
      "\n"
     ]
    }
   ],
   "source": [
    "dfSelected.describe().show()"
   ]
  },
  {
   "cell_type": "markdown",
   "id": "8cc9be82",
   "metadata": {},
   "source": [
    "## spark 로 데이터 가공하기 "
   ]
  },
  {
   "cell_type": "code",
   "execution_count": 22,
   "id": "fa2cb9fa",
   "metadata": {},
   "outputs": [
    {
     "name": "stdout",
     "output_type": "stream",
     "text": [
      "root\n",
      " |-- id: integer (nullable = true)\n",
      " |-- year_birth: integer (nullable = true)\n",
      " |-- education: string (nullable = true)\n",
      " |-- count_kid: integer (nullable = true)\n",
      " |-- count_teen: integer (nullable = true)\n",
      " |-- date_customer: string (nullable = true)\n",
      " |-- days_last_login: integer (nullable = true)\n",
      "\n"
     ]
    }
   ],
   "source": [
    "dfSelected.printSchema()"
   ]
  },
  {
   "cell_type": "code",
   "execution_count": 23,
   "id": "0da961dc",
   "metadata": {},
   "outputs": [
    {
     "name": "stdout",
     "output_type": "stream",
     "text": [
      "+-------+------------------+------------------+---------+-------------------+------------------+-------------+-----------------+\n",
      "|summary|                id|        year_birth|education|          count_kid|        count_teen|date_customer|  days_last_login|\n",
      "+-------+------------------+------------------+---------+-------------------+------------------+-------------+-----------------+\n",
      "|  count|              2240|              2240|     2240|               2240|              2240|         2240|             2240|\n",
      "|   mean| 5592.159821428571|1968.8058035714287|     null|0.44419642857142855|           0.50625|         null|        49.109375|\n",
      "| stddev|3246.6621975643416|11.984069456885827|     null| 0.5383980977345935|0.5445382307698761|         null|28.96245280837821|\n",
      "|    min|                 0|              1893| 2n Cycle|                  0|                 0|   01-01-2013|                0|\n",
      "|    max|             11191|              1996|      PhD|                  2|                 2|   31-12-2013|               99|\n",
      "+-------+------------------+------------------+---------+-------------------+------------------+-------------+-----------------+\n",
      "\n"
     ]
    }
   ],
   "source": [
    "dfSelected.describe().show()"
   ]
  },
  {
   "cell_type": "code",
   "execution_count": 24,
   "id": "3c2346cc",
   "metadata": {},
   "outputs": [],
   "source": [
    "dfConverted1 = dfSelected.withColumn(\"count_children\", coalesce(\"count_kid\", lit(0)) + coalesce(\"count_teen\", lit(0))) "
   ]
  },
  {
   "cell_type": "markdown",
   "id": "77615b20",
   "metadata": {},
   "source": [
    "- coalesce() 함수에서 NULL 값 대신 default 값을 0 으로 설정한다. "
   ]
  },
  {
   "cell_type": "code",
   "execution_count": 25,
   "id": "3226e333",
   "metadata": {},
   "outputs": [
    {
     "name": "stdout",
     "output_type": "stream",
     "text": [
      "+----+---------+----------+--------------+\n",
      "|  id|count_kid|count_teen|count_children|\n",
      "+----+---------+----------+--------------+\n",
      "|5524|        0|         0|             0|\n",
      "|2174|        1|         1|             2|\n",
      "|4141|        0|         0|             0|\n",
      "|6182|        1|         0|             1|\n",
      "|5324|        1|         0|             1|\n",
      "+----+---------+----------+--------------+\n",
      "\n"
     ]
    }
   ],
   "source": [
    "dfConverted1\\\n",
    "    .select(col(\"id\"), col(\"count_kid\"), col(\"count_teen\"), col(\"count_children\"))\\\n",
    "    .limit(5)\\\n",
    "    .show()"
   ]
  },
  {
   "cell_type": "code",
   "execution_count": 26,
   "id": "3454889f",
   "metadata": {},
   "outputs": [
    {
     "name": "stdout",
     "output_type": "stream",
     "text": [
      "+----------+\n",
      "| education|\n",
      "+----------+\n",
      "|  2n Cycle|\n",
      "|       PhD|\n",
      "|    Master|\n",
      "|Graduation|\n",
      "|     Basic|\n",
      "+----------+\n",
      "\n"
     ]
    }
   ],
   "source": [
    "# education column 의 값 종류 \n",
    "dfConverted1\\\n",
    "    .select(\"education\")\\\n",
    "    .distinct()\\\n",
    "    .show()"
   ]
  },
  {
   "cell_type": "code",
   "execution_count": 27,
   "id": "27713e87",
   "metadata": {},
   "outputs": [],
   "source": [
    "educationInvalid = '2n Cycle'\n",
    "educationDefault = 'NONE'\n",
    "# withColumn 으로 새로운 컬럼 추가 \n",
    "dfConverted2 = dfConverted1.withColumn(\n",
    "    \"education\",\n",
    "    when(col(\"education\") == educationInvalid, educationDefault).otherwise(col(\"education\"))\n",
    ")"
   ]
  },
  {
   "cell_type": "code",
   "execution_count": 28,
   "id": "0ede48a5",
   "metadata": {},
   "outputs": [
    {
     "name": "stdout",
     "output_type": "stream",
     "text": [
      "+----------+\n",
      "| education|\n",
      "+----------+\n",
      "|       PhD|\n",
      "|    Master|\n",
      "|Graduation|\n",
      "|     Basic|\n",
      "|      NONE|\n",
      "+----------+\n",
      "\n"
     ]
    }
   ],
   "source": [
    "dfConverted2.select(\"education\").distinct().show()"
   ]
  },
  {
   "cell_type": "code",
   "execution_count": 29,
   "id": "df07f421",
   "metadata": {},
   "outputs": [
    {
     "name": "stdout",
     "output_type": "stream",
     "text": [
      "+----+----------+----------+---------+----------+-------------+---------------+--------------+\n",
      "|  id|year_birth| education|count_kid|count_teen|date_customer|days_last_login|count_children|\n",
      "+----+----------+----------+---------+----------+-------------+---------------+--------------+\n",
      "|5524|      1957|Graduation|        0|         0|   04-09-2012|             58|             0|\n",
      "|2174|      1954|Graduation|        1|         1|   08-03-2014|             38|             2|\n",
      "|4141|      1965|Graduation|        0|         0|   21-08-2013|             26|             0|\n",
      "|6182|      1984|Graduation|        1|         0|   10-02-2014|             26|             1|\n",
      "|5324|      1981|       PhD|        1|         0|   19-01-2014|             94|             1|\n",
      "|7446|      1967|    Master|        0|         1|   09-09-2013|             16|             1|\n",
      "| 965|      1971|Graduation|        0|         1|   13-11-2012|             34|             1|\n",
      "|6177|      1985|       PhD|        1|         0|   08-05-2013|             32|             1|\n",
      "|4855|      1974|       PhD|        1|         0|   06-06-2013|             19|             1|\n",
      "|5899|      1950|       PhD|        1|         1|   13-03-2014|             68|             2|\n",
      "|1994|      1983|Graduation|        1|         0|   15-11-2013|             11|             1|\n",
      "| 387|      1976|     Basic|        0|         0|   13-11-2012|             59|             0|\n",
      "|2125|      1959|Graduation|        0|         0|   15-11-2013|             82|             0|\n",
      "|8180|      1952|    Master|        1|         1|   15-11-2013|             53|             2|\n",
      "|2569|      1987|Graduation|        0|         0|   10-10-2012|             38|             0|\n",
      "|2114|      1946|       PhD|        0|         0|   24-11-2012|             23|             0|\n",
      "|9736|      1980|Graduation|        1|         1|   24-12-2012|             51|             2|\n",
      "|4939|      1946|Graduation|        0|         0|   31-08-2012|             20|             0|\n",
      "|6565|      1949|    Master|        0|         1|   28-03-2013|             91|             1|\n",
      "|2278|      1985|      NONE|        1|         0|   03-11-2012|             86|             1|\n",
      "+----+----------+----------+---------+----------+-------------+---------------+--------------+\n",
      "only showing top 20 rows\n",
      "\n"
     ]
    }
   ],
   "source": [
    "dfConverted2.show()"
   ]
  },
  {
   "cell_type": "markdown",
   "id": "df54e3be",
   "metadata": {},
   "source": [
    "- selectExpr() 로 SQL 문법 바로 사용하기 "
   ]
  },
  {
   "cell_type": "code",
   "execution_count": 30,
   "id": "d13f29bf",
   "metadata": {},
   "outputs": [],
   "source": [
    "dfConverted3 = dfConverted1.selectExpr(\"*\", \n",
    "                f\"CASE WHEN education == '{educationInvalid}' THEN '{educationDefault}' ELSE education END as education\"\n",
    "    )"
   ]
  },
  {
   "cell_type": "code",
   "execution_count": 31,
   "id": "9a9cbb7d",
   "metadata": {},
   "outputs": [],
   "source": [
    "dfWithJoined = dfConverted2.withColumn(\"date_joined\", add_months(to_date(col(\"date_customer\"), \"d-M-yyyy\"), 72))"
   ]
  },
  {
   "cell_type": "code",
   "execution_count": 32,
   "id": "e5dd6825",
   "metadata": {},
   "outputs": [
    {
     "name": "stdout",
     "output_type": "stream",
     "text": [
      "+-------------+-----------+\n",
      "|date_customer|date_joined|\n",
      "+-------------+-----------+\n",
      "|   04-09-2012| 2018-09-04|\n",
      "|   08-03-2014| 2020-03-08|\n",
      "|   21-08-2013| 2019-08-21|\n",
      "|   10-02-2014| 2020-02-10|\n",
      "|   19-01-2014| 2020-01-19|\n",
      "+-------------+-----------+\n",
      "\n"
     ]
    }
   ],
   "source": [
    "# 기존 값에 6년을 더함 \n",
    "dfWithJoined.select(\"date_customer\", \"date_joined\").limit(5).show()"
   ]
  },
  {
   "cell_type": "code",
   "execution_count": 33,
   "id": "ffb8c442",
   "metadata": {},
   "outputs": [
    {
     "name": "stdout",
     "output_type": "stream",
     "text": [
      "root\n",
      " |-- id: integer (nullable = true)\n",
      " |-- year_birth: integer (nullable = true)\n",
      " |-- education: string (nullable = true)\n",
      " |-- count_kid: integer (nullable = true)\n",
      " |-- count_teen: integer (nullable = true)\n",
      " |-- date_customer: string (nullable = true)\n",
      " |-- days_last_login: integer (nullable = true)\n",
      " |-- count_children: integer (nullable = false)\n",
      " |-- date_joined: date (nullable = true)\n",
      "\n"
     ]
    }
   ],
   "source": [
    "dfWithJoined.printSchema()"
   ]
  },
  {
   "cell_type": "markdown",
   "id": "33375fe4",
   "metadata": {},
   "source": [
    "# DataFrame, Dataset and SQL\n",
    "\n",
    "- DataFrame은 Dataset[Row] 이다. Row라는 타입의 Dataset이 DataFrame이다. \n"
   ]
  },
  {
   "cell_type": "markdown",
   "id": "85047a9f",
   "metadata": {},
   "source": [
    "- Dataset 은 Java  / Scala 언어로만 사용가능함. RDD와 같이 map, flatmap, filter 등 함수형 Collection API 의 일부를 사용할 수 있으며 DataFrame과 같이 SQL Optimizer 에 의해 최적화 됨 \n",
    "- Streaming 이나 Batch Application 만들 때 주로 사용됨. 데이터 탐색이나 프로토타이핑시에는 생산성을 이유로 pyspark 가 자주 사용됨"
   ]
  },
  {
   "cell_type": "code",
   "execution_count": null,
   "id": "fb9f4b18",
   "metadata": {},
   "outputs": [],
   "source": []
  },
  {
   "cell_type": "markdown",
   "id": "f42f86fd",
   "metadata": {},
   "source": [
    "## Reference \n",
    "- spark : https://1ambda.gitbook.io/practical-data-pipeline/02-processing/2.2-batch/2.1.2-spark-tutorial"
   ]
  }
 ],
 "metadata": {
  "kernelspec": {
   "display_name": "Python 3 (ipykernel)",
   "language": "python",
   "name": "python3"
  },
  "language_info": {
   "codemirror_mode": {
    "name": "ipython",
    "version": 3
   },
   "file_extension": ".py",
   "mimetype": "text/x-python",
   "name": "python",
   "nbconvert_exporter": "python",
   "pygments_lexer": "ipython3",
   "version": "3.10.9"
  }
 },
 "nbformat": 4,
 "nbformat_minor": 5
}
