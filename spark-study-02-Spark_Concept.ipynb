{
 "cells": [
  {
   "cell_type": "code",
   "execution_count": 1,
   "id": "35746f22",
   "metadata": {},
   "outputs": [
    {
     "name": "stdout",
     "output_type": "stream",
     "text": [
      "Requirement already satisfied: pyspark in c:\\users\\mzc01-minjiwoo\\anaconda3\\lib\\site-packages (3.4.1)\n",
      "Requirement already satisfied: py4j==0.10.9.7 in c:\\users\\mzc01-minjiwoo\\anaconda3\\lib\\site-packages (from pyspark) (0.10.9.7)\n"
     ]
    }
   ],
   "source": [
    "!pip install pyspark "
   ]
  },
  {
   "cell_type": "code",
   "execution_count": 5,
   "id": "69fbff5d",
   "metadata": {},
   "outputs": [],
   "source": [
    "import pyspark\n",
    "from pyspark.sql import SparkSession \n",
    "\n",
    "spark = SparkSession.builder.appName('SparkStudy').getOrCreate()"
   ]
  },
  {
   "cell_type": "code",
   "execution_count": 6,
   "id": "492d700a",
   "metadata": {},
   "outputs": [],
   "source": [
    "# Transformation \n",
    "\n",
    "df = spark.read.load(\"C://Users/MZC01-MINJIWOO/Downloads/customer_dataset/marketing_campaign.csv\",\n",
    "                     format=\"csv\",\n",
    "                     sep=\"\\t\",\n",
    "                     inferSchema=\"true\",\n",
    "                     header=\"true\"\n",
    "                    )"
   ]
  },
  {
   "cell_type": "code",
   "execution_count": 7,
   "id": "81b412c8",
   "metadata": {},
   "outputs": [
    {
     "name": "stdout",
     "output_type": "stream",
     "text": [
      "root\n",
      " |-- ID: integer (nullable = true)\n",
      " |-- Year_Birth: integer (nullable = true)\n",
      " |-- Education: string (nullable = true)\n",
      " |-- Marital_Status: string (nullable = true)\n",
      " |-- Income: integer (nullable = true)\n",
      " |-- Kidhome: integer (nullable = true)\n",
      " |-- Teenhome: integer (nullable = true)\n",
      " |-- Dt_Customer: string (nullable = true)\n",
      " |-- Recency: integer (nullable = true)\n",
      " |-- MntWines: integer (nullable = true)\n",
      " |-- MntFruits: integer (nullable = true)\n",
      " |-- MntMeatProducts: integer (nullable = true)\n",
      " |-- MntFishProducts: integer (nullable = true)\n",
      " |-- MntSweetProducts: integer (nullable = true)\n",
      " |-- MntGoldProds: integer (nullable = true)\n",
      " |-- NumDealsPurchases: integer (nullable = true)\n",
      " |-- NumWebPurchases: integer (nullable = true)\n",
      " |-- NumCatalogPurchases: integer (nullable = true)\n",
      " |-- NumStorePurchases: integer (nullable = true)\n",
      " |-- NumWebVisitsMonth: integer (nullable = true)\n",
      " |-- AcceptedCmp3: integer (nullable = true)\n",
      " |-- AcceptedCmp4: integer (nullable = true)\n",
      " |-- AcceptedCmp5: integer (nullable = true)\n",
      " |-- AcceptedCmp1: integer (nullable = true)\n",
      " |-- AcceptedCmp2: integer (nullable = true)\n",
      " |-- Complain: integer (nullable = true)\n",
      " |-- Z_CostContact: integer (nullable = true)\n",
      " |-- Z_Revenue: integer (nullable = true)\n",
      " |-- Response: integer (nullable = true)\n",
      "\n"
     ]
    }
   ],
   "source": [
    "df.printSchema()"
   ]
  },
  {
   "cell_type": "code",
   "execution_count": 14,
   "id": "d8891c94",
   "metadata": {},
   "outputs": [],
   "source": [
    "from pyspark.sql.functions import col\n",
    "\n",
    "# Transformation \n",
    "dfSelected = df.select(\n",
    "    col(\"ID\").alias(\"id\"),\n",
    "    col(\"Year_Birth\").alias(\"year_birth\"),\n",
    "    col(\"Education\").alias(\"education\"),\n",
    "    col(\"Kidhome\").alias(\"count_kid\"),\n",
    "    col(\"Teenhome\").alias(\"count_teen\"),\n",
    "    col(\"Dt_Customer\").alias(\"date_customer\"),\n",
    "    col(\"Recency\").alias(\"days_last_login\")\n",
    ")"
   ]
  },
  {
   "cell_type": "code",
   "execution_count": 15,
   "id": "fdd78673",
   "metadata": {},
   "outputs": [
    {
     "data": {
      "text/plain": [
       "2240"
      ]
     },
     "execution_count": 15,
     "metadata": {},
     "output_type": "execute_result"
    }
   ],
   "source": [
    "from pyspark.sql.functions import * \n",
    "from pyspark.sql.types import * \n",
    "\n",
    "# Transformation \n",
    "dfConverted = df.withColumn(\"date_joined\",\n",
    "                           add_months(to_date(col(\"dt_customer\"), \"d-M-yyyy\"), 72))\n",
    "dfConverted.count()"
   ]
  },
  {
   "cell_type": "code",
   "execution_count": 17,
   "id": "132457a6",
   "metadata": {},
   "outputs": [
    {
     "name": "stdout",
     "output_type": "stream",
     "text": [
      "== Physical Plan ==\n",
      "* Project (2)\n",
      "+- Scan csv  (1)\n",
      "\n",
      "\n",
      "(1) Scan csv \n",
      "Output [29]: [ID#17, Year_Birth#18, Education#19, Marital_Status#20, Income#21, Kidhome#22, Teenhome#23, Dt_Customer#24, Recency#25, MntWines#26, MntFruits#27, MntMeatProducts#28, MntFishProducts#29, MntSweetProducts#30, MntGoldProds#31, NumDealsPurchases#32, NumWebPurchases#33, NumCatalogPurchases#34, NumStorePurchases#35, NumWebVisitsMonth#36, AcceptedCmp3#37, AcceptedCmp4#38, AcceptedCmp5#39, AcceptedCmp1#40, AcceptedCmp2#41, Complain#42, Z_CostContact#43, Z_Revenue#44, Response#45]\n",
      "Batched: false\n",
      "Location: InMemoryFileIndex [file:/C:/Users/MZC01-MINJIWOO/Downloads/customer_dataset/marketing_campaign.csv]\n",
      "ReadSchema: struct<ID:int,Year_Birth:int,Education:string,Marital_Status:string,Income:int,Kidhome:int,Teenhome:int,Dt_Customer:string,Recency:int,MntWines:int,MntFruits:int,MntMeatProducts:int,MntFishProducts:int,MntSweetProducts:int,MntGoldProds:int,NumDealsPurchases:int,NumWebPurchases:int,NumCatalogPurchases:int,NumStorePurchases:int,NumWebVisitsMonth:int,AcceptedCmp3:int,AcceptedCmp4:int,AcceptedCmp5:int,AcceptedCmp1:int,AcceptedCmp2:int,Complain:int,Z_CostContact:int,Z_Revenue:int,Response:int>\n",
      "\n",
      "(2) Project [codegen id : 1]\n",
      "Output [30]: [ID#17, Year_Birth#18, Education#19, Marital_Status#20, Income#21, Kidhome#22, Teenhome#23, Dt_Customer#24, Recency#25, MntWines#26, MntFruits#27, MntMeatProducts#28, MntFishProducts#29, MntSweetProducts#30, MntGoldProds#31, NumDealsPurchases#32, NumWebPurchases#33, NumCatalogPurchases#34, NumStorePurchases#35, NumWebVisitsMonth#36, AcceptedCmp3#37, AcceptedCmp4#38, AcceptedCmp5#39, AcceptedCmp1#40, AcceptedCmp2#41, Complain#42, Z_CostContact#43, Z_Revenue#44, Response#45, add_months(cast(gettimestamp(dt_customer#24, d-M-yyyy, TimestampType, Some(Asia/Seoul), false) as date), 72) AS date_joined#118]\n",
      "Input [29]: [ID#17, Year_Birth#18, Education#19, Marital_Status#20, Income#21, Kidhome#22, Teenhome#23, Dt_Customer#24, Recency#25, MntWines#26, MntFruits#27, MntMeatProducts#28, MntFishProducts#29, MntSweetProducts#30, MntGoldProds#31, NumDealsPurchases#32, NumWebPurchases#33, NumCatalogPurchases#34, NumStorePurchases#35, NumWebVisitsMonth#36, AcceptedCmp3#37, AcceptedCmp4#38, AcceptedCmp5#39, AcceptedCmp1#40, AcceptedCmp2#41, Complain#42, Z_CostContact#43, Z_Revenue#44, Response#45]\n",
      "\n",
      "\n"
     ]
    }
   ],
   "source": [
    "dfConverted.explain('formatted')"
   ]
  },
  {
   "cell_type": "markdown",
   "id": "bd3c7c57",
   "metadata": {},
   "source": [
    "- 서로 다른 DataFrame은 서로 다른 id 를 가지고 있다. "
   ]
  },
  {
   "cell_type": "code",
   "execution_count": 18,
   "id": "f52e153b",
   "metadata": {},
   "outputs": [
    {
     "data": {
      "text/plain": [
       "<bound method RDD.id of MapPartitionsRDD[22] at javaToPython at NativeMethodAccessorImpl.java:0>"
      ]
     },
     "execution_count": 18,
     "metadata": {},
     "output_type": "execute_result"
    }
   ],
   "source": [
    "dfConverted.rdd.id"
   ]
  },
  {
   "cell_type": "code",
   "execution_count": 19,
   "id": "697b8272",
   "metadata": {},
   "outputs": [
    {
     "data": {
      "text/plain": [
       "<bound method RDD.id of MapPartitionsRDD[28] at javaToPython at NativeMethodAccessorImpl.java:0>"
      ]
     },
     "execution_count": 19,
     "metadata": {},
     "output_type": "execute_result"
    }
   ],
   "source": [
    "dfSelected.rdd.id"
   ]
  },
  {
   "cell_type": "code",
   "execution_count": 20,
   "id": "2ac7df50",
   "metadata": {},
   "outputs": [
    {
     "name": "stdout",
     "output_type": "stream",
     "text": [
      "== Parsed Logical Plan ==\n",
      "GlobalLimit 5\n",
      "+- LocalLimit 5\n",
      "   +- Project [education#19]\n",
      "      +- Project [ID#17, Year_Birth#18, Education#19, Marital_Status#20, Income#21, Kidhome#22, Teenhome#23, Dt_Customer#24, Recency#25, MntWines#26, MntFruits#27, MntMeatProducts#28, MntFishProducts#29, MntSweetProducts#30, MntGoldProds#31, NumDealsPurchases#32, NumWebPurchases#33, NumCatalogPurchases#34, NumStorePurchases#35, NumWebVisitsMonth#36, AcceptedCmp3#37, AcceptedCmp4#38, AcceptedCmp5#39, AcceptedCmp1#40, ... 6 more fields]\n",
      "         +- Relation [ID#17,Year_Birth#18,Education#19,Marital_Status#20,Income#21,Kidhome#22,Teenhome#23,Dt_Customer#24,Recency#25,MntWines#26,MntFruits#27,MntMeatProducts#28,MntFishProducts#29,MntSweetProducts#30,MntGoldProds#31,NumDealsPurchases#32,NumWebPurchases#33,NumCatalogPurchases#34,NumStorePurchases#35,NumWebVisitsMonth#36,AcceptedCmp3#37,AcceptedCmp4#38,AcceptedCmp5#39,AcceptedCmp1#40,... 5 more fields] csv\n",
      "\n",
      "== Analyzed Logical Plan ==\n",
      "education: string\n",
      "GlobalLimit 5\n",
      "+- LocalLimit 5\n",
      "   +- Project [education#19]\n",
      "      +- Project [ID#17, Year_Birth#18, Education#19, Marital_Status#20, Income#21, Kidhome#22, Teenhome#23, Dt_Customer#24, Recency#25, MntWines#26, MntFruits#27, MntMeatProducts#28, MntFishProducts#29, MntSweetProducts#30, MntGoldProds#31, NumDealsPurchases#32, NumWebPurchases#33, NumCatalogPurchases#34, NumStorePurchases#35, NumWebVisitsMonth#36, AcceptedCmp3#37, AcceptedCmp4#38, AcceptedCmp5#39, AcceptedCmp1#40, ... 6 more fields]\n",
      "         +- Relation [ID#17,Year_Birth#18,Education#19,Marital_Status#20,Income#21,Kidhome#22,Teenhome#23,Dt_Customer#24,Recency#25,MntWines#26,MntFruits#27,MntMeatProducts#28,MntFishProducts#29,MntSweetProducts#30,MntGoldProds#31,NumDealsPurchases#32,NumWebPurchases#33,NumCatalogPurchases#34,NumStorePurchases#35,NumWebVisitsMonth#36,AcceptedCmp3#37,AcceptedCmp4#38,AcceptedCmp5#39,AcceptedCmp1#40,... 5 more fields] csv\n",
      "\n",
      "== Optimized Logical Plan ==\n",
      "GlobalLimit 5\n",
      "+- LocalLimit 5\n",
      "   +- Project [education#19]\n",
      "      +- Relation [ID#17,Year_Birth#18,Education#19,Marital_Status#20,Income#21,Kidhome#22,Teenhome#23,Dt_Customer#24,Recency#25,MntWines#26,MntFruits#27,MntMeatProducts#28,MntFishProducts#29,MntSweetProducts#30,MntGoldProds#31,NumDealsPurchases#32,NumWebPurchases#33,NumCatalogPurchases#34,NumStorePurchases#35,NumWebVisitsMonth#36,AcceptedCmp3#37,AcceptedCmp4#38,AcceptedCmp5#39,AcceptedCmp1#40,... 5 more fields] csv\n",
      "\n",
      "== Physical Plan ==\n",
      "CollectLimit 5\n",
      "+- FileScan csv [Education#19] Batched: false, DataFilters: [], Format: CSV, Location: InMemoryFileIndex(1 paths)[file:/C:/Users/MZC01-MINJIWOO/Downloads/customer_dataset/marketing_cam..., PartitionFilters: [], PushedFilters: [], ReadSchema: struct<Education:string>\n",
      "\n"
     ]
    }
   ],
   "source": [
    "dfConverted.select(\"education\").limit(5).explain(\"extended\")"
   ]
  },
  {
   "cell_type": "code",
   "execution_count": null,
   "id": "890a1bc5",
   "metadata": {},
   "outputs": [],
   "source": []
  }
 ],
 "metadata": {
  "kernelspec": {
   "display_name": "Python 3 (ipykernel)",
   "language": "python",
   "name": "python3"
  },
  "language_info": {
   "codemirror_mode": {
    "name": "ipython",
    "version": 3
   },
   "file_extension": ".py",
   "mimetype": "text/x-python",
   "name": "python",
   "nbconvert_exporter": "python",
   "pygments_lexer": "ipython3",
   "version": "3.10.9"
  }
 },
 "nbformat": 4,
 "nbformat_minor": 5
}
